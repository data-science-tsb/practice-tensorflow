{
 "cells": [
  {
   "cell_type": "markdown",
   "metadata": {},
   "source": [
    "# Tensorboard\n",
    "Appreciate your graphs. Visually \n",
    "\n",
    "[Documentation](https://www.tensorflow.org/tensorboard)"
   ]
  },
  {
   "cell_type": "code",
   "execution_count": null,
   "metadata": {},
   "outputs": [],
   "source": [
    "import tensorflow.compat.v1 as tf\n",
    "tf.disable_v2_behavior()"
   ]
  },
  {
   "cell_type": "code",
   "execution_count": 2,
   "metadata": {},
   "outputs": [],
   "source": [
    "with tf.name_scope(\"Operation_A\"):\n",
    "    aa = tf.add(1,2,name=\"A_Add1\")\n",
    "    ab = tf.add(3,4,name=\"A_Add2\")\n",
    "    ac = tf.multiply(aa,ab,name=\"Multi_A\")\n",
    "\n",
    "with tf.name_scope(\"Operation_B\"):\n",
    "    ba = tf.add(10,2,name=\"B_Add1\")\n",
    "    bb = tf.add(3,54,name=\"B_Add2\")\n",
    "    bc = tf.multiply(ba,bb,name=\"Multi_B\")\n",
    "    \n",
    "ultimate = tf.multiply(ac,bc,name=\"Ultimate_Result\")"
   ]
  },
  {
   "cell_type": "code",
   "execution_count": null,
   "metadata": {},
   "outputs": [],
   "source": [
    "with tf.Session() as sess:\n",
    "    writer = tf.summary.FileWriter(\"./model/debug\",sess.graph)\n",
    "    print(sess.run(ultimate))\n",
    "    writer.close()"
   ]
  },
  {
   "cell_type": "markdown",
   "metadata": {},
   "source": [
    "![alt text](docs/tensorboard-simple-graph.PNG \"Logo Title Text 1\")"
   ]
  },
  {
   "cell_type": "code",
   "execution_count": null,
   "metadata": {},
   "outputs": [],
   "source": [
    "!tensorboard --logdir=\"./model/debug\""
   ]
  },
  {
   "cell_type": "code",
   "execution_count": null,
   "metadata": {},
   "outputs": [],
   "source": [
    "# access the proxy server at:\n",
    "#https://<notebook_instance>.notebook.us-west-2.sagemaker.aws/proxy/6006"
   ]
  },
  {
   "cell_type": "code",
   "execution_count": null,
   "metadata": {},
   "outputs": [],
   "source": [
    "# if you have a problem with the proxy server using incorrect urls\n",
    "# fix it using \"Requestly\"\n",
    "# \n",
    "# fix:\n",
    "# request url\n",
    "# matches (wildcard)\n",
    "# source: https://sage-prime.notebook.us-west-2.sagemaker.aws/proxy/data*\n",
    "# destination: https://sage-prime.notebook.us-west-2.sagemaker.aws/proxy/6006/data$1"
   ]
  }
 ],
 "metadata": {
  "kernelspec": {
   "display_name": "conda_tensorflow_p36",
   "language": "python",
   "name": "conda_tensorflow_p36"
  },
  "language_info": {
   "codemirror_mode": {
    "name": "ipython",
    "version": 3
   },
   "file_extension": ".py",
   "mimetype": "text/x-python",
   "name": "python",
   "nbconvert_exporter": "python",
   "pygments_lexer": "ipython3",
   "version": "3.6.6"
  }
 },
 "nbformat": 4,
 "nbformat_minor": 4
}
