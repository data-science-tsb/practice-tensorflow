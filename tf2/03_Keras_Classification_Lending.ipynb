{
 "cells": [
  {
   "cell_type": "markdown",
   "metadata": {},
   "source": [
    "# LendingClub Data: Classification Exercise\n",
    "\n",
    "Dataset: [Lending Club Load Data](https://www.kaggle.com/wordsforthewise/lending-club)\n",
    "\n",
    "Steps:\n",
    "- Exploratory Data Analysis\n",
    "- Data Pre"
   ]
  }
 ],
 "metadata": {
  "kernelspec": {
   "display_name": "",
   "name": ""
  },
  "language_info": {
   "name": ""
  }
 },
 "nbformat": 4,
 "nbformat_minor": 4
}
